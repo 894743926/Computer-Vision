{
 "cells": [
  {
   "cell_type": "markdown",
   "metadata": {},
   "source": [
    "# Character-Level LSTM in PyTorch\n",
    "\n",
    "In this notebook, I'll construct a character-level LSTM with PyTorch. The network will train character by character on some text, then generate new text character by character. As an example, I will train on Anna Karenina. **This model will be able to generate new text based on the text from the book!**\n",
    "\n",
    "This network is based off of Andrej Karpathy's [post on RNNs](http://karpathy.github.io/2015/05/21/rnn-effectiveness/) and [implementation in Torch](https://github.com/karpathy/char-rnn). Below is the general architecture of the character-wise RNN.\n",
    "\n",
    "<img src=\"assets/charseq.jpeg\" width=\"500\">"
   ]
  },
  {
   "cell_type": "markdown",
   "metadata": {},
   "source": [
    "First let's load in our required resources for data loading and model creation."
   ]
  },
  {
   "cell_type": "code",
   "execution_count": 1,
   "metadata": {},
   "outputs": [],
   "source": [
    "import numpy as np\n",
    "import torch\n",
    "from torch import nn\n",
    "import torch.nn.functional as F\n"
   ]
  },
  {
   "cell_type": "markdown",
   "metadata": {},
   "source": [
    "## Load in Data\n",
    "\n",
    "Then, we'll load the Anna Karenina text file and convert it into integers for our network to use. \n",
    "\n",
    "### Tokenization\n",
    "\n",
    "In the second cell, below, I'm creating a couple **dictionaries** to convert the characters to and from integers. Encoding the characters as integers makes it easier to use as input in the network."
   ]
  },
  {
   "cell_type": "code",
   "execution_count": 2,
   "metadata": {},
   "outputs": [],
   "source": [
    "# open text file and read in data as `text`\n",
    "with open('data/anna.txt', 'r') as f:\n",
    "    text = f.read()"
   ]
  },
  {
   "cell_type": "markdown",
   "metadata": {},
   "source": [
    "Now we have the text, encode it as integers."
   ]
  },
  {
   "cell_type": "code",
   "execution_count": 3,
   "metadata": {},
   "outputs": [],
   "source": [
    "# encode the text and map each character to an integer and vice versa\n",
    "\n",
    "# we create two dictonaries:\n",
    "# 1. int2char, which maps integers to characters\n",
    "# 2. char2int, which maps characters to unique integers\n",
    "chars = tuple(set(text))\n",
    "int2char = dict(enumerate(chars))\n",
    "char2int = {ch: ii for ii, ch in int2char.items()}\n",
    "encoded = np.array([char2int[ch] for ch in text])"
   ]
  },
  {
   "cell_type": "markdown",
   "metadata": {},
   "source": [
    "Let's check out the first 100 characters, make sure everything is peachy. According to the [American Book Review](http://americanbookreview.org/100bestlines.asp), this is the 6th best first line of a book ever."
   ]
  },
  {
   "cell_type": "code",
   "execution_count": 4,
   "metadata": {},
   "outputs": [
    {
     "data": {
      "text/plain": [
       "'Chapter 1\\n\\n\\nHappy families are all alike; every unhappy family is unhappy in its own\\nway.\\n\\nEverythin'"
      ]
     },
     "execution_count": 4,
     "metadata": {},
     "output_type": "execute_result"
    }
   ],
   "source": [
    "text[:100]"
   ]
  },
  {
   "cell_type": "markdown",
   "metadata": {},
   "source": [
    "And we can see those same characters encoded as integers."
   ]
  },
  {
   "cell_type": "code",
   "execution_count": 5,
   "metadata": {},
   "outputs": [
    {
     "data": {
      "text/plain": [
       "array([27, 13, 56, 73, 57, 46, 25, 31, 28,  9,  9,  9, 32, 56, 73, 73, 79,\n",
       "       31, 76, 56,  6, 20, 16, 20, 46, 26, 31, 56, 25, 46, 31, 56, 16, 16,\n",
       "       31, 56, 16, 20, 68, 46, 74, 31, 46, 24, 46, 25, 79, 31, 81, 14, 13,\n",
       "       56, 73, 73, 79, 31, 76, 56,  6, 20, 16, 79, 31, 20, 26, 31, 81, 14,\n",
       "       13, 56, 73, 73, 79, 31, 20, 14, 31, 20, 57, 26, 31, 82,  3, 14,  9,\n",
       "        3, 56, 79, 55,  9,  9, 60, 24, 46, 25, 79, 57, 13, 20, 14])"
      ]
     },
     "execution_count": 5,
     "metadata": {},
     "output_type": "execute_result"
    }
   ],
   "source": [
    "encoded[:100]"
   ]
  },
  {
   "cell_type": "markdown",
   "metadata": {},
   "source": [
    "## Pre-processing the data\n",
    "\n",
    "As you can see in our char-RNN image above, our LSTM expects an input that is **one-hot encoded** meaning that each character is converted into an intgere (via our created dictionary) and *then* converted into a column vector where only it's corresponsing integer index will have the value of 1 and the rest of the vector will be filled with 0's. Since we're one-hot encoding the data, let's make a function to do that!\n"
   ]
  },
  {
   "cell_type": "code",
   "execution_count": 6,
   "metadata": {},
   "outputs": [],
   "source": [
    "def one_hot_encode(arr, n_labels):\n",
    "    \n",
    "    # Initialize the the encoded array\n",
    "    one_hot = np.zeros((np.multiply(*arr.shape), n_labels), dtype=np.float32)\n",
    "    \n",
    "    # Fill the appropriate elements with ones\n",
    "    one_hot[np.arange(one_hot.shape[0]), arr.flatten()] = 1.\n",
    "    \n",
    "    # Finally reshape it to get back to the original array\n",
    "    one_hot = one_hot.reshape((*arr.shape, n_labels))\n",
    "    \n",
    "    return one_hot"
   ]
  },
  {
   "cell_type": "markdown",
   "metadata": {},
   "source": [
    "## Making training mini-batches\n",
    "\n",
    "\n",
    "To train on this data, we also want to create mini-batches for training. Remember that we want our batches to be multiple sequences of some desired number of sequence steps. Considering a simple example, our batches would look like this:\n",
    "\n",
    "<img src=\"assets/sequence_batching@1x.png\" width=500px>\n",
    "\n",
    "\n",
    "<br>\n",
    "\n",
    "In this example, we'll take the encoded characters (passed in as the `arr` parameter) and split them into multiple sequences, given by `n_seqs` (also refered to as \"batch size\" in other places). Each of those sequences will be `n_steps` long.\n",
    "\n",
    "### Creating Batches\n",
    "\n",
    "**1. The first thing we need to do is discard some of the text so we only have completely full batches. **\n",
    "\n",
    "Each batch contains $N \\times M$ characters, where $N$ is the batch size (the number of sequences) and $M$ is the number of steps. Then, to get the total number of batches, $K$, we can make from the array `arr`, you divide the length of `arr` by the number of characters per batch. Once you know the number of batches, you can get the total number of characters to keep from `arr`, $N * M * K$.\n",
    "\n",
    "**2. After that, we need to split `arr` into $N$ sequences. ** \n",
    "\n",
    "You can do this using `arr.reshape(size)` where `size` is a tuple containing the dimensions sizes of the reshaped array. We know we want $N$ sequences, so let's make that the size of the first dimension. For the second dimension, you can use `-1` as a placeholder in the size, it'll fill up the array with the appropriate data for you. After this, you should have an array that is $N \\times (M * K)$.\n",
    "\n",
    "**3. Now that we have this array, we can iterate through it to get our batches. **\n",
    "\n",
    "The idea is each batch is a $N \\times M$ window on the $N \\times (M * K)$ array. For each subsequent batch, the window moves over by `n_steps`. We also want to create both the input and target arrays. Remember that the targets are the inputs shifted over one character. The way I like to do this window is use `range` to take steps of size `n_steps` from $0$ to `arr.shape[1]`, the total number of steps in each sequence. That way, the integers you get from `range` always point to the start of a batch, and each window is `n_steps` wide.\n",
    "\n",
    "> **TODO:** Write the code for creating batches in the function below. The exercises in this notebook _will not be easy_. I've provided a notebook with solutions alongside this notebook. If you get stuck, checkout the solutions. The most important thing is that you don't copy and paste the code into here, **type out the solution code yourself.**"
   ]
  },
  {
   "cell_type": "code",
   "execution_count": 7,
   "metadata": {},
   "outputs": [],
   "source": [
    "def get_batches(arr, n_seqs, n_steps):\n",
    "    '''Create a generator that returns batches of size\n",
    "       n_seqs x n_steps from arr.\n",
    "       \n",
    "       Arguments\n",
    "       ---------\n",
    "       arr: Array you want to make batches from\n",
    "       n_seqs: Batch size, the number of sequences per batch\n",
    "       n_steps: Number of sequence steps per batch\n",
    "    '''\n",
    "    \n",
    "    # Get the number of characters per batch\n",
    "    batch_size = n_seqs * n_steps\n",
    "    \n",
    "    ## TODO: Get the number of batches we can make\n",
    "    n_batches = len(arr) // batch_size\n",
    "    \n",
    "    ## TODO: Keep only enough characters to make full batches\n",
    "    arr = arr[:n_batches*batch_size]\n",
    "    \n",
    "    ## TODO: Reshape into batch_size rows\n",
    "    arr = np.reshape(arr, (n_seqs,-1))\n",
    "    shift_arr = np.roll(arr, -1)\n",
    "    \n",
    "    ## TODO: Make batches\n",
    "    for n in range(0, arr.shape[1], n_steps):\n",
    "        # The features\n",
    "        x = arr[:, n:n+n_steps]\n",
    "        # The targets, shifted by one\n",
    "        y = shift_arr[:, n:n+n_steps]\n",
    "        yield x, y\n"
   ]
  },
  {
   "cell_type": "markdown",
   "metadata": {},
   "source": [
    "### Test Your Implementation\n",
    "\n",
    "Now I'll make some data sets and we can check out what's going on as we batch data. Here, as an example, I'm going to use a batch size of 10 and 50 sequence steps."
   ]
  },
  {
   "cell_type": "code",
   "execution_count": 8,
   "metadata": {},
   "outputs": [],
   "source": [
    "batches = get_batches(encoded, 10, 50)\n",
    "x, y = next(batches)"
   ]
  },
  {
   "cell_type": "code",
   "execution_count": 9,
   "metadata": {},
   "outputs": [
    {
     "name": "stdout",
     "output_type": "stream",
     "text": [
      "x\n",
      " [[27 13 56 73 57 46 25 31 28  9]\n",
      " [31 56  6 31 14 82 57 31 45 82]\n",
      " [24 20 14 55  9  9 78 61 46 26]\n",
      " [14 31 18 81 25 20 14 45 31 13]\n",
      " [31 20 57 31 20 26 34 31 26 20]\n",
      " [31 11 57 31  3 56 26  9 82 14]\n",
      " [13 46 14 31 21 82  6 46 31 76]\n",
      " [74 31 17 81 57 31 14 82  3 31]\n",
      " [57 31 20 26 14 50 57 55 31 35]\n",
      " [31 26 56 20 18 31 57 82 31 13]]\n",
      "\n",
      "y\n",
      " [[13 56 73 57 46 25 31 28  9  9]\n",
      " [56  6 31 14 82 57 31 45 82 20]\n",
      " [20 14 55  9  9 78 61 46 26 34]\n",
      " [31 18 81 25 20 14 45 31 13 20]\n",
      " [20 57 31 20 26 34 31 26 20 25]\n",
      " [11 57 31  3 56 26  9 82 14 16]\n",
      " [46 14 31 21 82  6 46 31 76 82]\n",
      " [31 17 81 57 31 14 82  3 31 26]\n",
      " [31 20 26 14 50 57 55 31 35 13]\n",
      " [26 56 20 18 31 57 82 31 13 46]]\n"
     ]
    }
   ],
   "source": [
    "print('x\\n', x[:10, :10])\n",
    "print('\\ny\\n', y[:10, :10])"
   ]
  },
  {
   "cell_type": "markdown",
   "metadata": {},
   "source": [
    "If you implemented `get_batches` correctly, the above output should look something like \n",
    "```\n",
    "x\n",
    " [[55 63 69 22  6 76 45  5 16 35]\n",
    " [ 5 69  1  5 12 52  6  5 56 52]\n",
    " [48 29 12 61 35 35  8 64 76 78]\n",
    " [12  5 24 39 45 29 12 56  5 63]\n",
    " [ 5 29  6  5 29 78 28  5 78 29]\n",
    " [ 5 13  6  5 36 69 78 35 52 12]\n",
    " [63 76 12  5 18 52  1 76  5 58]\n",
    " [34  5 73 39  6  5 12 52 36  5]\n",
    " [ 6  5 29 78 12 79  6 61  5 59]\n",
    " [ 5 78 69 29 24  5  6 52  5 63]]\n",
    "\n",
    "y\n",
    " [[63 69 22  6 76 45  5 16 35 35]\n",
    " [69  1  5 12 52  6  5 56 52 29]\n",
    " [29 12 61 35 35  8 64 76 78 28]\n",
    " [ 5 24 39 45 29 12 56  5 63 29]\n",
    " [29  6  5 29 78 28  5 78 29 45]\n",
    " [13  6  5 36 69 78 35 52 12 43]\n",
    " [76 12  5 18 52  1 76  5 58 52]\n",
    " [ 5 73 39  6  5 12 52 36  5 78]\n",
    " [ 5 29 78 12 79  6 61  5 59 63]\n",
    " [78 69 29 24  5  6 52  5 63 76]]\n",
    " ```\n",
    " although the exact numbers will be different. Check to make sure the data is shifted over one step for `y`."
   ]
  },
  {
   "cell_type": "markdown",
   "metadata": {},
   "source": [
    "---\n",
    "## Defining the network with PyTorch\n",
    "\n",
    "Below is where you'll define the network. We'll break it up into parts so it's easier to reason about each bit. Then we can connect them up into the whole network.\n",
    "\n",
    "<img src=\"assets/charRNN.png\" width=500px>\n",
    "\n",
    "Next, you'll use PyTorch to define the architecture of the network. We start by defining the layers and operations we want. Then, define a method for the forward pass. You've also been given a method for predicting characters."
   ]
  },
  {
   "cell_type": "markdown",
   "metadata": {},
   "source": [
    "### Model Structure\n",
    "\n",
    "In `__init__` the suggested structure is as follows:\n",
    "* Create and store the necessary dictionaries (this has been done for you)\n",
    "* Define an LSTM layer that takes as params: an input size (the number of characters), a hidden layer size `n_hidden`, a number of layers `n_layers`, a dropout probability `drop_prob`, and a batch_first boolean (True, since we are batching)\n",
    "* Define a dropout layer with `dropout_prob`\n",
    "* Define a fully-connected layer with params: input size `n_hidden` and output size (the number of characters)\n",
    "* Finally, initialize the weights (again, this has been given)\n",
    "\n",
    "Note that some parameters have been named and given in the `__init__` function, and we use them and store them by doing something like `self.drop_prob = drop_prob`."
   ]
  },
  {
   "cell_type": "markdown",
   "metadata": {},
   "source": [
    "---\n",
    "### LSTM Inputs/Outputs\n",
    "\n",
    "You can create a basic LSTM cell as follows\n",
    "\n",
    "```python\n",
    "self.lstm = nn.LSTM(input_size, n_hidden, n_layers, \n",
    "                            dropout=drop_prob, batch_first=True)\n",
    "```\n",
    "\n",
    "where `input_size` is the number of characters this cell expects to see as sequential input, and `n_hidden` is the number of units in the hidden layers in the cell. And we can add dropout by adding a dropout parameter with a specified probability; this will automatically add dropout to the inputs or outputs. Finally, in the `forward` function, we can stack up the LSTM cells into layers using `.view`. With this, you pass in a list of cells and it will send the output of one cell into the next cell.\n",
    "\n",
    "We also need to create an initial cell state of all zeros. This is done like so\n",
    "\n",
    "```python\n",
    "self.init_weights()\n",
    "```"
   ]
  },
  {
   "cell_type": "code",
   "execution_count": 15,
   "metadata": {},
   "outputs": [],
   "source": [
    "class CharRNN(nn.Module):\n",
    "    \n",
    "    def __init__(self, tokens, n_steps=100, n_hidden=256, n_layers=2,\n",
    "                               drop_prob=0.5, lr=0.001):\n",
    "        super().__init__()\n",
    "        self.drop_prob = drop_prob\n",
    "        self.n_layers = n_layers\n",
    "        self.n_hidden = n_hidden\n",
    "        self.lr = lr\n",
    "        \n",
    "        # creating character dictionaries\n",
    "        self.chars = tokens\n",
    "        self.int2char = dict(enumerate(self.chars))\n",
    "        self.char2int = {ch: ii for ii, ch in self.int2char.items()}\n",
    "        \n",
    "        ## TODO: define the LSTM, self.lstm\n",
    "        self.lstm = nn.LSTM(len(char2int), self.n_hidden, self.n_layers,\n",
    "                            dropout=self.drop_prob, batch_first=True)\n",
    "        \n",
    "        ## TODO: define a dropout layer, self.dropout\n",
    "        self.dropout = nn.Dropout(self.drop_prob)\n",
    "        \n",
    "        ## TODO: define the final, fully-connected output layer, self.fc\n",
    "        self.fc = nn.Linear(self.n_hidden, len(self.char2int))\n",
    "        \n",
    "        # initialize the weights\n",
    "        self.init_weights()\n",
    "      \n",
    "    \n",
    "    def forward(self, x, hc):\n",
    "        ''' Forward pass through the network. \n",
    "            These inputs are x, and the hidden/cell state `hc`. '''\n",
    "        \n",
    "        ## TODO: Get x, and the new hidden state (h, c) from the lstm\n",
    "        x, (h, c) = self.lstm(x, hc)\n",
    "        \n",
    "        ## TODO: pass x through a droupout layer\n",
    "        x = self.dropout(x)\n",
    "        \n",
    "        # Stack up LSTM outputs using view\n",
    "        x = x.view(x.size()[0]*x.size()[1], self.n_hidden)\n",
    "        \n",
    "        ## TODO: put x through the fully-connected layer\n",
    "        x = self.fc(x)\n",
    "        \n",
    "        # return x and the hidden state (h, c)\n",
    "        return x, (h, c)\n",
    "    \n",
    "    \n",
    "    def predict(self, char, h=None, cuda=False, top_k=None):\n",
    "        ''' Given a character, predict the next character.\n",
    "        \n",
    "            Returns the predicted character and the hidden state.\n",
    "        '''\n",
    "        if cuda:\n",
    "            self.cuda()\n",
    "        else:\n",
    "            self.cpu()\n",
    "        \n",
    "        if h is None:\n",
    "            h = self.init_hidden(1)\n",
    "        \n",
    "        x = np.array([[self.char2int[char]]])\n",
    "        x = one_hot_encode(x, len(self.chars))\n",
    "        inputs = torch.from_numpy(x)\n",
    "        if cuda:\n",
    "            inputs = inputs.cuda()\n",
    "        \n",
    "        h = tuple([each.data for each in h])\n",
    "        out, h = self.forward(inputs, h)\n",
    "\n",
    "        p = F.softmax(out, dim=1).data\n",
    "        if cuda:\n",
    "            p = p.cpu()\n",
    "        \n",
    "        if top_k is None:\n",
    "            top_ch = np.arange(len(self.chars))\n",
    "        else:\n",
    "            p, top_ch = p.topk(top_k)\n",
    "            top_ch = top_ch.numpy().squeeze()\n",
    "        \n",
    "        p = p.numpy().squeeze()\n",
    "        char = np.random.choice(top_ch, p=p/p.sum())\n",
    "            \n",
    "        return self.int2char[char], h\n",
    "    \n",
    "    def init_weights(self):\n",
    "        ''' Initialize weights for fully connected layer '''\n",
    "        initrange = 0.1\n",
    "        \n",
    "        # Set bias tensor to all zeros\n",
    "        self.fc.bias.data.fill_(0)\n",
    "        # FC weights as random uniform\n",
    "        self.fc.weight.data.uniform_(-1, 1)\n",
    "        \n",
    "    def init_hidden(self, n_seqs):\n",
    "        ''' Initializes hidden state '''\n",
    "        # Create two new tensors with sizes n_layers x n_seqs x n_hidden,\n",
    "        # initialized to zero, for hidden state and cell state of LSTM\n",
    "        weight = next(self.parameters()).data\n",
    "        return (weight.new(self.n_layers, n_seqs, self.n_hidden).zero_(),\n",
    "                weight.new(self.n_layers, n_seqs, self.n_hidden).zero_())\n",
    "        "
   ]
  },
  {
   "cell_type": "markdown",
   "metadata": {},
   "source": [
    "### A note on the `predict`  function\n",
    "\n",
    "The output of our RNN is from a fully-connected layer and it outputs a **distribution of next-character scores**.\n",
    "\n",
    "To actually get the next character, we apply a softmax function, which gives us a *probability* distribution that we can then sample to predict the next character."
   ]
  },
  {
   "cell_type": "code",
   "execution_count": 16,
   "metadata": {},
   "outputs": [],
   "source": [
    "## ---- keep notebook from crashing during training --- ##\n",
    "import os\n",
    "import requests\n",
    "import time\n",
    "\n",
    "def train(net, data, epochs=10, n_seqs=10, n_steps=50, lr=0.001, clip=5, val_frac=0.1, cuda=False, print_every=10):\n",
    "    ''' Training a network \n",
    "    \n",
    "        Arguments\n",
    "        ---------\n",
    "        \n",
    "        net: CharRNN network\n",
    "        data: text data to train the network\n",
    "        epochs: Number of epochs to train\n",
    "        n_seqs: Number of mini-sequences per mini-batch, aka batch size\n",
    "        n_steps: Number of character steps per mini-batch\n",
    "        lr: learning rate\n",
    "        clip: gradient clipping\n",
    "        val_frac: Fraction of data to hold out for validation\n",
    "        cuda: Train with CUDA on a GPU\n",
    "        print_every: Number of steps for printing training and validation loss\n",
    "    \n",
    "    '''\n",
    "    \n",
    "    net.train()\n",
    "    opt = torch.optim.Adam(net.parameters(), lr=lr)\n",
    "    criterion = nn.CrossEntropyLoss()\n",
    "    \n",
    "    # create training and validation data\n",
    "    val_idx = int(len(data)*(1-val_frac))\n",
    "    data, val_data = data[:val_idx], data[val_idx:]\n",
    "    \n",
    "    if cuda:\n",
    "        net.cuda()\n",
    "    \n",
    "    counter = 0\n",
    "    n_chars = len(net.chars)\n",
    "    \n",
    "    old_time = time.time()\n",
    "\n",
    "    for e in range(epochs):\n",
    "        h = net.init_hidden(n_seqs)\n",
    "        for x, y in get_batches(data, n_seqs, n_steps):\n",
    "            \n",
    "            if time.time() - old_time > 60:\n",
    "                old_time = time.time()\n",
    "                requests.request(\"POST\", \n",
    "                                 \"https://nebula.udacity.com/api/v1/remote/keep-alive\", \n",
    "                                 headers={'Authorization': \"STAR \" + response.text})\n",
    "            \n",
    "            counter += 1\n",
    "            \n",
    "            # One-hot encode our data and make them Torch tensors\n",
    "            x = one_hot_encode(x, n_chars)\n",
    "            inputs, targets = torch.from_numpy(x), torch.from_numpy(y)\n",
    "            \n",
    "            if cuda:\n",
    "                inputs, targets = inputs.cuda(), targets.cuda()\n",
    "\n",
    "            # Creating new variables for the hidden state, otherwise\n",
    "            # we'd backprop through the entire training history\n",
    "            h = tuple([each.data for each in h])\n",
    "\n",
    "            net.zero_grad()\n",
    "            \n",
    "            output, h = net.forward(inputs, h)\n",
    "            loss = criterion(output, targets.contiguous().view([n_seqs*n_steps]))\n",
    "\n",
    "            loss.backward()\n",
    "            \n",
    "            # `clip_grad_norm` helps prevent the exploding gradient problem in RNNs / LSTMs.\n",
    "            nn.utils.clip_grad_norm_(net.parameters(), clip)\n",
    "\n",
    "            opt.step()\n",
    "            \n",
    "            if counter % print_every == 0:\n",
    "                \n",
    "                # Get validation loss\n",
    "                val_h = net.init_hidden(n_seqs)\n",
    "                val_losses = []\n",
    "                for x, y in get_batches(val_data, n_seqs, n_steps):\n",
    "                    # One-hot encode our data and make them Torch tensors\n",
    "                    x = one_hot_encode(x, n_chars)\n",
    "                    x, y = torch.from_numpy(x), torch.from_numpy(y)\n",
    "                    \n",
    "                    # Creating new variables for the hidden state, otherwise\n",
    "                    # we'd backprop through the entire training history\n",
    "                    val_h = tuple([each.data for each in val_h])\n",
    "                    \n",
    "                    inputs, targets = x, y\n",
    "                    if cuda:\n",
    "                        inputs, targets = inputs.cuda(), targets.cuda()\n",
    "\n",
    "                    output, val_h = net.forward(inputs, val_h)\n",
    "                    val_loss = criterion(output, targets.contiguous().view(n_seqs*n_steps))\n",
    "                \n",
    "                    val_losses.append(val_loss.item())\n",
    "                \n",
    "                print(\"Epoch: {}/{}...\".format(e+1, epochs),\n",
    "                      \"Step: {}...\".format(counter),\n",
    "                      \"Loss: {:.4f}...\".format(loss.item()),\n",
    "                      \"Val Loss: {:.4f}\".format(np.mean(val_losses)))"
   ]
  },
  {
   "cell_type": "markdown",
   "metadata": {},
   "source": [
    "## Time to train\n",
    "\n",
    "Now we can actually train the network. First we'll create the network itself, with some given hyperparameters. Then, define the mini-batches sizes (number of sequences and number of steps), and start the training. With the train function, we can set the number of epochs, the learning rate, and other parameters. Also, we can run the training on a GPU by setting `cuda=True`."
   ]
  },
  {
   "cell_type": "code",
   "execution_count": 17,
   "metadata": {},
   "outputs": [],
   "source": [
    "if 'net' in locals():\n",
    "    del net"
   ]
  },
  {
   "cell_type": "code",
   "execution_count": 18,
   "metadata": {},
   "outputs": [
    {
     "name": "stdout",
     "output_type": "stream",
     "text": [
      "CharRNN(\n",
      "  (lstm): LSTM(83, 512, num_layers=2, batch_first=True, dropout=0.5)\n",
      "  (dropout): Dropout(p=0.5)\n",
      "  (fc): Linear(in_features=512, out_features=83, bias=True)\n",
      ")\n"
     ]
    }
   ],
   "source": [
    "# define and print the net\n",
    "net = CharRNN(chars, n_hidden=512, n_layers=2)\n",
    "print(net)"
   ]
  },
  {
   "cell_type": "code",
   "execution_count": 20,
   "metadata": {
    "collapsed": true
   },
   "outputs": [
    {
     "name": "stdout",
     "output_type": "stream",
     "text": [
      "Epoch: 1/50... Step: 10... Loss: 1.2274... Val Loss: 1.4044\n",
      "Epoch: 1/50... Step: 20... Loss: 1.2252... Val Loss: 1.3922\n",
      "Epoch: 1/50... Step: 30... Loss: 1.2172... Val Loss: 1.3935\n",
      "Epoch: 1/50... Step: 40... Loss: 1.1911... Val Loss: 1.3965\n",
      "Epoch: 1/50... Step: 50... Loss: 1.1883... Val Loss: 1.3961\n",
      "Epoch: 1/50... Step: 60... Loss: 1.1474... Val Loss: 1.3916\n",
      "Epoch: 1/50... Step: 70... Loss: 1.1745... Val Loss: 1.3909\n",
      "Epoch: 1/50... Step: 80... Loss: 1.1569... Val Loss: 1.3940\n",
      "Epoch: 1/50... Step: 90... Loss: 1.1746... Val Loss: 1.3946\n",
      "Epoch: 1/50... Step: 100... Loss: 1.1722... Val Loss: 1.3920\n",
      "Epoch: 1/50... Step: 110... Loss: 1.1593... Val Loss: 1.3929\n",
      "Epoch: 1/50... Step: 120... Loss: 1.1513... Val Loss: 1.3944\n",
      "Epoch: 1/50... Step: 130... Loss: 1.1853... Val Loss: 1.3904\n",
      "Epoch: 2/50... Step: 140... Loss: 1.2571... Val Loss: 1.3844\n",
      "Epoch: 2/50... Step: 150... Loss: 1.1820... Val Loss: 1.3879\n",
      "Epoch: 2/50... Step: 160... Loss: 1.1866... Val Loss: 1.3929\n",
      "Epoch: 2/50... Step: 170... Loss: 1.2051... Val Loss: 1.3892\n",
      "Epoch: 2/50... Step: 180... Loss: 1.1530... Val Loss: 1.3893\n",
      "Epoch: 2/50... Step: 190... Loss: 1.1459... Val Loss: 1.3947\n",
      "Epoch: 2/50... Step: 200... Loss: 1.1487... Val Loss: 1.3964\n",
      "Epoch: 2/50... Step: 210... Loss: 1.1686... Val Loss: 1.3866\n",
      "Epoch: 2/50... Step: 220... Loss: 1.1592... Val Loss: 1.3939\n",
      "Epoch: 2/50... Step: 230... Loss: 1.1458... Val Loss: 1.3921\n",
      "Epoch: 2/50... Step: 240... Loss: 1.1757... Val Loss: 1.3881\n",
      "Epoch: 2/50... Step: 250... Loss: 1.1612... Val Loss: 1.3965\n",
      "Epoch: 2/50... Step: 260... Loss: 1.1274... Val Loss: 1.3918\n",
      "Epoch: 2/50... Step: 270... Loss: 1.1961... Val Loss: 1.3832\n",
      "Epoch: 3/50... Step: 280... Loss: 1.1577... Val Loss: 1.3889\n",
      "Epoch: 3/50... Step: 290... Loss: 1.1716... Val Loss: 1.3932\n",
      "Epoch: 3/50... Step: 300... Loss: 1.1577... Val Loss: 1.3934\n",
      "Epoch: 3/50... Step: 310... Loss: 1.1515... Val Loss: 1.3897\n",
      "Epoch: 3/50... Step: 320... Loss: 1.1325... Val Loss: 1.3923\n",
      "Epoch: 3/50... Step: 330... Loss: 1.1479... Val Loss: 1.3874\n",
      "Epoch: 3/50... Step: 340... Loss: 1.1777... Val Loss: 1.3961\n",
      "Epoch: 3/50... Step: 350... Loss: 1.1479... Val Loss: 1.3833\n",
      "Epoch: 3/50... Step: 360... Loss: 1.1254... Val Loss: 1.3869\n",
      "Epoch: 3/50... Step: 370... Loss: 1.1437... Val Loss: 1.3858\n",
      "Epoch: 3/50... Step: 380... Loss: 1.1747... Val Loss: 1.3885\n",
      "Epoch: 3/50... Step: 390... Loss: 1.1486... Val Loss: 1.3893\n",
      "Epoch: 3/50... Step: 400... Loss: 1.1323... Val Loss: 1.3925\n",
      "Epoch: 3/50... Step: 410... Loss: 1.1626... Val Loss: 1.3854\n",
      "Epoch: 4/50... Step: 420... Loss: 1.1556... Val Loss: 1.3828\n",
      "Epoch: 4/50... Step: 430... Loss: 1.1371... Val Loss: 1.3849\n",
      "Epoch: 4/50... Step: 440... Loss: 1.1600... Val Loss: 1.3840\n",
      "Epoch: 4/50... Step: 450... Loss: 1.1128... Val Loss: 1.3835\n",
      "Epoch: 4/50... Step: 460... Loss: 1.1089... Val Loss: 1.3891\n",
      "Epoch: 4/50... Step: 470... Loss: 1.1567... Val Loss: 1.3915\n",
      "Epoch: 4/50... Step: 480... Loss: 1.1652... Val Loss: 1.3931\n",
      "Epoch: 4/50... Step: 490... Loss: 1.1645... Val Loss: 1.3868\n",
      "Epoch: 4/50... Step: 500... Loss: 1.1811... Val Loss: 1.3872\n",
      "Epoch: 4/50... Step: 510... Loss: 1.1580... Val Loss: 1.3824\n",
      "Epoch: 4/50... Step: 520... Loss: 1.1398... Val Loss: 1.3883\n",
      "Epoch: 4/50... Step: 530... Loss: 1.1465... Val Loss: 1.3906\n",
      "Epoch: 4/50... Step: 540... Loss: 1.1139... Val Loss: 1.4016\n",
      "Epoch: 4/50... Step: 550... Loss: 1.1765... Val Loss: 1.3841\n",
      "Epoch: 5/50... Step: 560... Loss: 1.1471... Val Loss: 1.3864\n",
      "Epoch: 5/50... Step: 570... Loss: 1.1476... Val Loss: 1.3793\n",
      "Epoch: 5/50... Step: 580... Loss: 1.1368... Val Loss: 1.3826\n",
      "Epoch: 5/50... Step: 590... Loss: 1.1420... Val Loss: 1.3819\n",
      "Epoch: 5/50... Step: 600... Loss: 1.1303... Val Loss: 1.3831\n",
      "Epoch: 5/50... Step: 610... Loss: 1.1234... Val Loss: 1.3913\n",
      "Epoch: 5/50... Step: 620... Loss: 1.1419... Val Loss: 1.3920\n",
      "Epoch: 5/50... Step: 630... Loss: 1.1422... Val Loss: 1.3914\n",
      "Epoch: 5/50... Step: 640... Loss: 1.1311... Val Loss: 1.3885\n",
      "Epoch: 5/50... Step: 650... Loss: 1.1418... Val Loss: 1.3851\n",
      "Epoch: 5/50... Step: 660... Loss: 1.1259... Val Loss: 1.3833\n",
      "Epoch: 5/50... Step: 670... Loss: 1.1360... Val Loss: 1.3911\n",
      "Epoch: 5/50... Step: 680... Loss: 1.1466... Val Loss: 1.3884\n",
      "Epoch: 5/50... Step: 690... Loss: 1.1471... Val Loss: 1.3797\n",
      "Epoch: 6/50... Step: 700... Loss: 1.1529... Val Loss: 1.3853\n",
      "Epoch: 6/50... Step: 710... Loss: 1.1366... Val Loss: 1.3784\n",
      "Epoch: 6/50... Step: 720... Loss: 1.1240... Val Loss: 1.3794\n",
      "Epoch: 6/50... Step: 730... Loss: 1.1418... Val Loss: 1.3820\n",
      "Epoch: 6/50... Step: 740... Loss: 1.1142... Val Loss: 1.3831\n",
      "Epoch: 6/50... Step: 750... Loss: 1.1364... Val Loss: 1.3895\n",
      "Epoch: 6/50... Step: 760... Loss: 1.1556... Val Loss: 1.3896\n",
      "Epoch: 6/50... Step: 770... Loss: 1.1347... Val Loss: 1.3952\n",
      "Epoch: 6/50... Step: 780... Loss: 1.1338... Val Loss: 1.3795\n",
      "Epoch: 6/50... Step: 790... Loss: 1.1291... Val Loss: 1.3759\n",
      "Epoch: 6/50... Step: 800... Loss: 1.1368... Val Loss: 1.3883\n",
      "Epoch: 6/50... Step: 810... Loss: 1.1188... Val Loss: 1.3856\n",
      "Epoch: 6/50... Step: 820... Loss: 1.0950... Val Loss: 1.3933\n",
      "Epoch: 6/50... Step: 830... Loss: 1.1335... Val Loss: 1.3866\n",
      "Epoch: 7/50... Step: 840... Loss: 1.1206... Val Loss: 1.3827\n",
      "Epoch: 7/50... Step: 850... Loss: 1.1215... Val Loss: 1.3765\n",
      "Epoch: 7/50... Step: 860... Loss: 1.1104... Val Loss: 1.3789\n",
      "Epoch: 7/50... Step: 870... Loss: 1.1243... Val Loss: 1.3795\n",
      "Epoch: 7/50... Step: 880... Loss: 1.1254... Val Loss: 1.3822\n",
      "Epoch: 7/50... Step: 890... Loss: 1.1421... Val Loss: 1.3821\n",
      "Epoch: 7/50... Step: 900... Loss: 1.1497... Val Loss: 1.3870\n",
      "Epoch: 7/50... Step: 910... Loss: 1.1023... Val Loss: 1.3888\n",
      "Epoch: 7/50... Step: 920... Loss: 1.1260... Val Loss: 1.3791\n",
      "Epoch: 7/50... Step: 930... Loss: 1.1238... Val Loss: 1.3741\n",
      "Epoch: 7/50... Step: 940... Loss: 1.1080... Val Loss: 1.3815\n",
      "Epoch: 7/50... Step: 950... Loss: 1.1393... Val Loss: 1.3888\n",
      "Epoch: 7/50... Step: 960... Loss: 1.1263... Val Loss: 1.3887\n",
      "Epoch: 7/50... Step: 970... Loss: 1.1386... Val Loss: 1.3775\n",
      "Epoch: 8/50... Step: 980... Loss: 1.1217... Val Loss: 1.3774\n",
      "Epoch: 8/50... Step: 990... Loss: 1.1233... Val Loss: 1.3727\n",
      "Epoch: 8/50... Step: 1000... Loss: 1.1165... Val Loss: 1.3778\n",
      "Epoch: 8/50... Step: 1010... Loss: 1.1372... Val Loss: 1.3812\n",
      "Epoch: 8/50... Step: 1020... Loss: 1.1384... Val Loss: 1.3786\n",
      "Epoch: 8/50... Step: 1030... Loss: 1.1299... Val Loss: 1.3835\n",
      "Epoch: 8/50... Step: 1040... Loss: 1.1388... Val Loss: 1.3815\n",
      "Epoch: 8/50... Step: 1050... Loss: 1.1083... Val Loss: 1.3973\n",
      "Epoch: 8/50... Step: 1060... Loss: 1.1081... Val Loss: 1.3905\n",
      "Epoch: 8/50... Step: 1070... Loss: 1.1226... Val Loss: 1.3831\n",
      "Epoch: 8/50... Step: 1080... Loss: 1.1248... Val Loss: 1.3783\n",
      "Epoch: 8/50... Step: 1090... Loss: 1.1099... Val Loss: 1.3892\n",
      "Epoch: 8/50... Step: 1100... Loss: 1.1064... Val Loss: 1.3824\n",
      "Epoch: 8/50... Step: 1110... Loss: 1.1119... Val Loss: 1.3838\n",
      "Epoch: 9/50... Step: 1120... Loss: 1.1063... Val Loss: 1.3807\n",
      "Epoch: 9/50... Step: 1130... Loss: 1.1220... Val Loss: 1.3744\n",
      "Epoch: 9/50... Step: 1140... Loss: 1.1260... Val Loss: 1.3771\n",
      "Epoch: 9/50... Step: 1150... Loss: 1.1342... Val Loss: 1.3815\n",
      "Epoch: 9/50... Step: 1160... Loss: 1.0998... Val Loss: 1.3773\n",
      "Epoch: 9/50... Step: 1170... Loss: 1.1188... Val Loss: 1.3784\n",
      "Epoch: 9/50... Step: 1180... Loss: 1.1083... Val Loss: 1.3792\n",
      "Epoch: 9/50... Step: 1190... Loss: 1.1403... Val Loss: 1.3903\n",
      "Epoch: 9/50... Step: 1200... Loss: 1.1064... Val Loss: 1.3869\n",
      "Epoch: 9/50... Step: 1210... Loss: 1.1117... Val Loss: 1.3805\n",
      "Epoch: 9/50... Step: 1220... Loss: 1.1151... Val Loss: 1.3785\n",
      "Epoch: 9/50... Step: 1230... Loss: 1.0945... Val Loss: 1.3891\n",
      "Epoch: 9/50... Step: 1240... Loss: 1.1010... Val Loss: 1.3839\n",
      "Epoch: 9/50... Step: 1250... Loss: 1.1329... Val Loss: 1.3865\n",
      "Epoch: 10/50... Step: 1260... Loss: 1.1139... Val Loss: 1.3780\n",
      "Epoch: 10/50... Step: 1270... Loss: 1.1284... Val Loss: 1.3825\n",
      "Epoch: 10/50... Step: 1280... Loss: 1.1288... Val Loss: 1.3741\n",
      "Epoch: 10/50... Step: 1290... Loss: 1.1132... Val Loss: 1.3772\n"
     ]
    },
    {
     "ename": "KeyboardInterrupt",
     "evalue": "",
     "output_type": "error",
     "traceback": [
      "\u001b[0;31m---------------------------------------------------------------------------\u001b[0m",
      "\u001b[0;31mKeyboardInterrupt\u001b[0m                         Traceback (most recent call last)",
      "\u001b[0;32m<ipython-input-20-084f1c200969>\u001b[0m in \u001b[0;36m<module>\u001b[0;34m()\u001b[0m\n\u001b[1;32m     13\u001b[0m \u001b[0;34m\u001b[0m\u001b[0m\n\u001b[1;32m     14\u001b[0m \u001b[0;31m# TRAIN\u001b[0m\u001b[0;34m\u001b[0m\u001b[0;34m\u001b[0m\u001b[0m\n\u001b[0;32m---> 15\u001b[0;31m \u001b[0mtrain\u001b[0m\u001b[0;34m(\u001b[0m\u001b[0mnet\u001b[0m\u001b[0;34m,\u001b[0m \u001b[0mencoded\u001b[0m\u001b[0;34m,\u001b[0m \u001b[0mepochs\u001b[0m\u001b[0;34m=\u001b[0m\u001b[0;36m50\u001b[0m\u001b[0;34m,\u001b[0m \u001b[0mn_seqs\u001b[0m\u001b[0;34m=\u001b[0m\u001b[0mn_seqs\u001b[0m\u001b[0;34m,\u001b[0m \u001b[0mn_steps\u001b[0m\u001b[0;34m=\u001b[0m\u001b[0mn_steps\u001b[0m\u001b[0;34m,\u001b[0m \u001b[0mlr\u001b[0m\u001b[0;34m=\u001b[0m\u001b[0;36m0.001\u001b[0m\u001b[0;34m,\u001b[0m \u001b[0mcuda\u001b[0m\u001b[0;34m=\u001b[0m\u001b[0;32mTrue\u001b[0m\u001b[0;34m,\u001b[0m \u001b[0mprint_every\u001b[0m\u001b[0;34m=\u001b[0m\u001b[0;36m10\u001b[0m\u001b[0;34m)\u001b[0m\u001b[0;34m\u001b[0m\u001b[0m\n\u001b[0m\u001b[1;32m     16\u001b[0m \u001b[0;34m\u001b[0m\u001b[0m\n\u001b[1;32m     17\u001b[0m \u001b[0;31m# Close the training log file.\u001b[0m\u001b[0;34m\u001b[0m\u001b[0;34m\u001b[0m\u001b[0m\n",
      "\u001b[0;32m<ipython-input-16-0b2558e29aad>\u001b[0m in \u001b[0;36mtrain\u001b[0;34m(net, data, epochs, n_seqs, n_steps, lr, clip, val_frac, cuda, print_every)\u001b[0m\n\u001b[1;32m     70\u001b[0m \u001b[0;34m\u001b[0m\u001b[0m\n\u001b[1;32m     71\u001b[0m             \u001b[0;31m# `clip_grad_norm` helps prevent the exploding gradient problem in RNNs / LSTMs.\u001b[0m\u001b[0;34m\u001b[0m\u001b[0;34m\u001b[0m\u001b[0m\n\u001b[0;32m---> 72\u001b[0;31m             \u001b[0mnn\u001b[0m\u001b[0;34m.\u001b[0m\u001b[0mutils\u001b[0m\u001b[0;34m.\u001b[0m\u001b[0mclip_grad_norm_\u001b[0m\u001b[0;34m(\u001b[0m\u001b[0mnet\u001b[0m\u001b[0;34m.\u001b[0m\u001b[0mparameters\u001b[0m\u001b[0;34m(\u001b[0m\u001b[0;34m)\u001b[0m\u001b[0;34m,\u001b[0m \u001b[0mclip\u001b[0m\u001b[0;34m)\u001b[0m\u001b[0;34m\u001b[0m\u001b[0m\n\u001b[0m\u001b[1;32m     73\u001b[0m \u001b[0;34m\u001b[0m\u001b[0m\n\u001b[1;32m     74\u001b[0m             \u001b[0mopt\u001b[0m\u001b[0;34m.\u001b[0m\u001b[0mstep\u001b[0m\u001b[0;34m(\u001b[0m\u001b[0;34m)\u001b[0m\u001b[0;34m\u001b[0m\u001b[0m\n",
      "\u001b[0;32m/opt/conda/lib/python3.6/site-packages/torch/nn/utils/clip_grad.py\u001b[0m in \u001b[0;36mclip_grad_norm_\u001b[0;34m(parameters, max_norm, norm_type)\u001b[0m\n\u001b[1;32m     26\u001b[0m         \u001b[0mtotal_norm\u001b[0m \u001b[0;34m=\u001b[0m \u001b[0;36m0\u001b[0m\u001b[0;34m\u001b[0m\u001b[0m\n\u001b[1;32m     27\u001b[0m         \u001b[0;32mfor\u001b[0m \u001b[0mp\u001b[0m \u001b[0;32min\u001b[0m \u001b[0mparameters\u001b[0m\u001b[0;34m:\u001b[0m\u001b[0;34m\u001b[0m\u001b[0m\n\u001b[0;32m---> 28\u001b[0;31m             \u001b[0mparam_norm\u001b[0m \u001b[0;34m=\u001b[0m \u001b[0mp\u001b[0m\u001b[0;34m.\u001b[0m\u001b[0mgrad\u001b[0m\u001b[0;34m.\u001b[0m\u001b[0mdata\u001b[0m\u001b[0;34m.\u001b[0m\u001b[0mnorm\u001b[0m\u001b[0;34m(\u001b[0m\u001b[0mnorm_type\u001b[0m\u001b[0;34m)\u001b[0m\u001b[0;34m\u001b[0m\u001b[0m\n\u001b[0m\u001b[1;32m     29\u001b[0m             \u001b[0mtotal_norm\u001b[0m \u001b[0;34m+=\u001b[0m \u001b[0mparam_norm\u001b[0m \u001b[0;34m**\u001b[0m \u001b[0mnorm_type\u001b[0m\u001b[0;34m\u001b[0m\u001b[0m\n\u001b[1;32m     30\u001b[0m         \u001b[0mtotal_norm\u001b[0m \u001b[0;34m=\u001b[0m \u001b[0mtotal_norm\u001b[0m \u001b[0;34m**\u001b[0m \u001b[0;34m(\u001b[0m\u001b[0;36m1.\u001b[0m \u001b[0;34m/\u001b[0m \u001b[0mnorm_type\u001b[0m\u001b[0;34m)\u001b[0m\u001b[0;34m\u001b[0m\u001b[0m\n",
      "\u001b[0;31mKeyboardInterrupt\u001b[0m: "
     ]
    }
   ],
   "source": [
    "n_seqs, n_steps = 128, 100\n",
    "\n",
    "# you may change cuda to True if you plan on using a GPU!\n",
    "# also, if you do, please INCREASE the epochs to 25\n",
    "\n",
    "# Open the training log file.\n",
    "log_file = 'training_log.txt'\n",
    "f = open(log_file, 'w')\n",
    "\n",
    "response = requests.request(\"GET\", \n",
    "                            \"http://metadata.google.internal/computeMetadata/v1/instance/attributes/keep_alive_token\", \n",
    "                            headers={\"Metadata-Flavor\":\"Google\"})\n",
    "\n",
    "# TRAIN\n",
    "train(net, encoded, epochs=50, n_seqs=n_seqs, n_steps=n_steps, lr=0.001, cuda=True, print_every=10)\n",
    "\n",
    "# Close the training log file.\n",
    "f.close()\n"
   ]
  },
  {
   "cell_type": "markdown",
   "metadata": {},
   "source": [
    "## Getting the best model\n",
    "\n",
    "To set your hyperparameters to get the best performance, you'll want to watch the training and validation losses. If your training loss is much lower than the validation loss, you're overfitting. Increase regularization (more dropout) or use a smaller network. If the training and validation losses are close, you're underfitting so you can increase the size of the network."
   ]
  },
  {
   "cell_type": "markdown",
   "metadata": {},
   "source": [
    "## Hyperparameters\n",
    "\n",
    "Here are the hyperparameters for the network.\n",
    "\n",
    "In defining the model:\n",
    "* `n_hidden` - The number of units in the hidden layers.\n",
    "* `n_layers` - Number of hidden LSTM layers to use.\n",
    "\n",
    "We assume that dropout probability and learning rate will be kept at the default, in this example.\n",
    "\n",
    "And in training:\n",
    "* `n_seqs` - Number of sequences running through the network in one pass.\n",
    "* `n_steps` - Number of characters in the sequence the network is trained on. Larger is better typically, the network will learn more long range dependencies. But it takes longer to train. 100 is typically a good number here.\n",
    "* `lr` - Learning rate for training\n",
    "\n",
    "Here's some good advice from Andrej Karpathy on training the network. I'm going to copy it in here for your benefit, but also link to [where it originally came from](https://github.com/karpathy/char-rnn#tips-and-tricks).\n",
    "\n",
    "> ## Tips and Tricks\n",
    "\n",
    ">### Monitoring Validation Loss vs. Training Loss\n",
    ">If you're somewhat new to Machine Learning or Neural Networks it can take a bit of expertise to get good models. The most important quantity to keep track of is the difference between your training loss (printed during training) and the validation loss (printed once in a while when the RNN is run on the validation data (by default every 1000 iterations)). In particular:\n",
    "\n",
    "> - If your training loss is much lower than validation loss then this means the network might be **overfitting**. Solutions to this are to decrease your network size, or to increase dropout. For example you could try dropout of 0.5 and so on.\n",
    "> - If your training/validation loss are about equal then your model is **underfitting**. Increase the size of your model (either number of layers or the raw number of neurons per layer)\n",
    "\n",
    "> ### Approximate number of parameters\n",
    "\n",
    "> The two most important parameters that control the model are `n_hidden` and `n_layers`. I would advise that you always use `n_layers` of either 2/3. The `n_hidden` can be adjusted based on how much data you have. The two important quantities to keep track of here are:\n",
    "\n",
    "> - The number of parameters in your model. This is printed when you start training.\n",
    "> - The size of your dataset. 1MB file is approximately 1 million characters.\n",
    "\n",
    ">These two should be about the same order of magnitude. It's a little tricky to tell. Here are some examples:\n",
    "\n",
    "> - I have a 100MB dataset and I'm using the default parameter settings (which currently print 150K parameters). My data size is significantly larger (100 mil >> 0.15 mil), so I expect to heavily underfit. I am thinking I can comfortably afford to make `n_hidden` larger.\n",
    "> - I have a 10MB dataset and running a 10 million parameter model. I'm slightly nervous and I'm carefully monitoring my validation loss. If it's larger than my training loss then I may want to try to increase dropout a bit and see if that helps the validation loss.\n",
    "\n",
    "> ### Best models strategy\n",
    "\n",
    ">The winning strategy to obtaining very good models (if you have the compute time) is to always err on making the network larger (as large as you're willing to wait for it to compute) and then try different dropout values (between 0,1). Whatever model has the best validation performance (the loss, written in the checkpoint filename, low is good) is the one you should use in the end.\n",
    "\n",
    ">It is very common in deep learning to run many different models with many different hyperparameter settings, and in the end take whatever checkpoint gave the best validation performance.\n",
    "\n",
    ">By the way, the size of your training and validation splits are also parameters. Make sure you have a decent amount of data in your validation set or otherwise the validation performance will be noisy and not very informative."
   ]
  },
  {
   "cell_type": "markdown",
   "metadata": {},
   "source": [
    "After training, we'll save the model so we can load it again later if we need too. Here I'm saving the parameters needed to create the same architecture, the hidden layer hyperparameters and the text characters."
   ]
  },
  {
   "cell_type": "code",
   "execution_count": 21,
   "metadata": {},
   "outputs": [],
   "source": [
    "# change the name, for saving multiple files\n",
    "model_name = 'rnn_30_epoch.net'\n",
    "\n",
    "checkpoint = {'n_hidden': net.n_hidden,\n",
    "              'n_layers': net.n_layers,\n",
    "              'state_dict': net.state_dict(),\n",
    "              'tokens': net.chars}\n",
    "\n",
    "with open(model_name, 'wb') as f:\n",
    "    torch.save(checkpoint, f)"
   ]
  },
  {
   "cell_type": "markdown",
   "metadata": {},
   "source": [
    "## Sampling\n",
    "\n",
    "Now that the model is trained, we'll want to sample from it. To sample, we pass in a character and have the network predict the next character. Then we take that character, pass it back in, and get another predicted character. Just keep doing this and you'll generate a bunch of text!\n",
    "\n",
    "### Top K sampling\n",
    "\n",
    "Our predictions come from a categorcial probability distribution over all the possible characters. We can make the sample text and make it more reasonable to handle (with less variables) by only considering some $K$ most probable characters. This will prevent the network from giving us completely absurd characters while allowing it to introduce some noise and randomness into the sampled text.\n",
    "\n",
    "Typically you'll want to prime the network so you can build up a hidden state. Otherwise the network will start out generating characters at random. In general the first bunch of characters will be a little rough since it hasn't built up a long history of characters to predict from."
   ]
  },
  {
   "cell_type": "code",
   "execution_count": 22,
   "metadata": {},
   "outputs": [],
   "source": [
    "def sample(net, size, prime='The', top_k=None, cuda=False):\n",
    "        \n",
    "    if cuda:\n",
    "        net.cuda()\n",
    "    else:\n",
    "        net.cpu()\n",
    "\n",
    "    net.eval()\n",
    "    \n",
    "    # First off, run through the prime characters\n",
    "    chars = [ch for ch in prime]\n",
    "    h = net.init_hidden(1)\n",
    "    for ch in prime:\n",
    "        char, h = net.predict(ch, h, cuda=cuda, top_k=top_k)\n",
    "\n",
    "    chars.append(char)\n",
    "    \n",
    "    # Now pass in the previous character and get a new one\n",
    "    for ii in range(size):\n",
    "        char, h = net.predict(chars[-1], h, cuda=cuda, top_k=top_k)\n",
    "        chars.append(char)\n",
    "\n",
    "    return ''.join(chars)"
   ]
  },
  {
   "cell_type": "code",
   "execution_count": 23,
   "metadata": {},
   "outputs": [
    {
     "name": "stdout",
     "output_type": "stream",
     "text": [
      "Anna, all the\n",
      "same ship was tied as she was atracting to this sense of sisters.\n",
      "Then--he did not keep up a soft, tender, he would not his with\n",
      "his heart, and the other side of Alexey Alexandrovitch. She was sitting did\n",
      "not ask him, he started in the day, at the best of which would say\n",
      "he had too answered them, but to the children. The polece had been\n",
      "a cartled that she had believed that he was stupid, sort of solitic,\n",
      "children, would be a speak of herself, and she hid by a feeling of happy and\n",
      "strange her life the second contempt about his husband at the stop, and\n",
      "though he was in the same tall the strange thousand. Her present had\n",
      "brought in her horses. He stood still, and the preterned constitution of\n",
      "the strange they had been and she could not terrie to the sound of her sister.\n",
      "He had spent a state on her little friends. She was still stroking in the\n",
      "person, still living was should that they were to see what she who was\n",
      "told him, and what was the side of his fingers, and her happiness was\n",
      "through her boy, and was asked his humiliation in his hand. The most\n",
      "interesting polite way that stepped and shook a banconess, and towards the\n",
      "window, seeing, his words. The morning he had still more and standing\n",
      "to the simplest than ever. And singling with the most and matter\n",
      "satisfaction, which she her, she went out of the country face that he\n",
      "was not alone. She was ashamed; he had been intensely and her horses.\n",
      "\n",
      "\"I've been as a family and thought the papince of secret as an advantage\n",
      "of a sister--that she does strength the lessons in a misery and character. In\n",
      "his hands would have suppose. And how is it the same time to do all at\n",
      "home,\" said Stepan Arkadyevitch, and said.\n",
      "\n",
      "\"I can't have miles this.\"\n",
      "\n",
      "\"It's simply,\" said Alexey Alexandrovitch, and stopped and glanced at\n",
      "him.\n",
      "\n",
      "\"It was not they too loving anyway,\" said Sergey Ivanovitch, smiling,\n",
      "was she was so tell a sense of seeing him, and the son of anster and the\n",
      "station. The drinking stirring-happer only had this story the sto\n"
     ]
    }
   ],
   "source": [
    "print(sample(net, 2000, prime='Anna', top_k=5, cuda=False))"
   ]
  },
  {
   "cell_type": "markdown",
   "metadata": {},
   "source": [
    "## Loading a checkpoint"
   ]
  },
  {
   "cell_type": "code",
   "execution_count": 24,
   "metadata": {},
   "outputs": [],
   "source": [
    "# Here we have loaded in a model that trained over 1 epoch `rnn_1_epoch.net`\n",
    "with open('rnn_30_epoch.net', 'rb') as f:\n",
    "    checkpoint = torch.load(f)\n",
    "    \n",
    "loaded = CharRNN(checkpoint['tokens'], n_hidden=checkpoint['n_hidden'], n_layers=checkpoint['n_layers'])\n",
    "loaded.load_state_dict(checkpoint['state_dict'])"
   ]
  },
  {
   "cell_type": "code",
   "execution_count": 25,
   "metadata": {},
   "outputs": [
    {
     "name": "stdout",
     "output_type": "stream",
     "text": [
      "And Levin said hin ware ad here shate was tit ind of hat th thithe here watting ta to her and aned tore hin\n",
      "alinter, thing he\n",
      "sound th the wing out out him\n",
      "sait and ther, well the sofrithing him ar overating that he ane tan the ton ting, wat and\n",
      "the has an at tore as inethe farerest on som toned satint out and satide sim tore wen the sounther she the\n",
      "wired the hing to ad the tore, at her ofatrers an hast in that ante ter ther tount ovich ansen ther and thim tores ther and tores and ove chat the toon an artatend tom the shut to shoud hor hes and ovenca tat ondere saice him to the shid her, he he den wer and the the ther\n",
      "toud th me this int te seere sered in the\n",
      "pestis,\" hus deas, and hathe se and how thet artide, had at ous tha witha shis at hing ard the has\n",
      "and ald hes tore asted to tha gat an the here hed hit song timat the with to tio tely wouth, ande sare to the\n",
      "\n",
      "atrath, ander avad asto he mast hin wand to thinged to tino sald, was in the hing he hand to him ounte to thim that the sanding, and thiter of\n",
      "hit sain the\n",
      "thite and taren the the camer te ha whre ang him that\n",
      "\n",
      "hersand therestat of te anted ond with her wast ald sime tat the ce ther and\n",
      "arid the tartist ther and of hem assed, whad donthed ther himere far hed anders to mes, and the tore ton has bunthe sound the wased\n",
      "and woustid to me an that ofed\n",
      "songing tho hinde ting toul of to manethit tond thither omat he\n",
      "mante whard had andindered andint hiched so foner, anding in the\n",
      "sartas oven,\n",
      "\n",
      "\"Yon's soned she whe he war han the sithe he mas to th herand, wan hinged ous hou he tis had she wother the too te toom in toor, wind he wantere her\n",
      "hemed, anding, an was ale an and an tat ond anter thed seind ous tong, bee toungeren ared tount at thath wore tout ant the shed to tome sale his andenginge to core to the card the her aled sand on had seatid, and hind\n",
      "att of ors ines al tared.\n",
      "T\" astend wor the horer of the thered\n",
      "athid.\"\n",
      "\n",
      "It hor the cones fichad his anded, hid ald ofting ind andes to tor sie him this ingad to the\n",
      "\n",
      "har andi\n"
     ]
    }
   ],
   "source": [
    "# Change cuda to True if you are using GPU!\n",
    "print(sample(loaded, 2000, cuda=False, top_k=5, prime=\"And Levin said\"))"
   ]
  },
  {
   "cell_type": "code",
   "execution_count": null,
   "metadata": {},
   "outputs": [],
   "source": []
  }
 ],
 "metadata": {
  "kernelspec": {
   "display_name": "Python 3",
   "language": "python",
   "name": "python3"
  },
  "language_info": {
   "codemirror_mode": {
    "name": "ipython",
    "version": 3
   },
   "file_extension": ".py",
   "mimetype": "text/x-python",
   "name": "python",
   "nbconvert_exporter": "python",
   "pygments_lexer": "ipython3",
   "version": "3.6.5"
  }
 },
 "nbformat": 4,
 "nbformat_minor": 2
}
